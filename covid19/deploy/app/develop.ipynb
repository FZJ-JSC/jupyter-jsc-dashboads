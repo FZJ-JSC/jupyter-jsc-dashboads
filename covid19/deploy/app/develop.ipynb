{
 "cells": [
  {
   "cell_type": "markdown",
   "metadata": {},
   "source": [
    "# Dashboard Development - using Dash/JupyterDash"
   ]
  },
  {
   "cell_type": "markdown",
   "metadata": {},
   "source": [
    "The `jupyter-dash` package makes it easy to develop Plotly Dash apps from the Jupyter Notebook and JupyterLab.  \n",
    "Just replace the standard `dash.Dash` class with the `jupyter_dash.JupyterDash` subclass."
   ]
  },
  {
   "cell_type": "markdown",
   "metadata": {},
   "source": [
    "When running in JupyterHub (or Binder), call the `infer_jupyter_config` function to detect the proxy configuration. This will detect the proper request_pathname_prefix and server_url values to use when displaying Dash apps.  \n",
    "For example:  \n",
    "- server_url = `https://jupyter-jsc.fz-juelich.de`  \n",
    "- request_pathname_prefix = `/user/j.goebbert@fz-juelich.de/jureca_login/`  \n",
    "\n",
    "For details please check the source here https://github.com/plotly/jupyter-dash/blob/v0.2.1.post1/jupyter_dash/comms.py#L33"
   ]
  },
  {
   "cell_type": "code",
   "execution_count": null,
   "metadata": {},
   "outputs": [],
   "source": [
    "from jupyter_dash import JupyterDash\n",
    "# https://github.com/plotly/jupyter-dash/blob/v0.3.0/jupyter_dash/jupyter_app.py#L45\n",
    "JupyterDash.infer_jupyter_proxy_config()"
   ]
  },
  {
   "cell_type": "markdown",
   "metadata": {},
   "source": [
    "**Attention:** I have to run this cell twice: first press play, wait a bit and hit play again while it still shows `[*]`"
   ]
  },
  {
   "cell_type": "markdown",
   "metadata": {},
   "source": [
    "**Bug:** this seems to run all `*.py` files in the current folder.  \n",
    "I do not know why and how that happens, but it should be fixed."
   ]
  },
  {
   "cell_type": "markdown",
   "metadata": {},
   "source": [
    "-------------------------\n",
    "## Preparation"
   ]
  },
  {
   "cell_type": "markdown",
   "metadata": {},
   "source": [
    "### before use in JupyterLab\n",
    "- create directory 'logs'\n",
    "- create directory 'cache'\n",
    "- create link to 'assets'  \n",
    "\n",
    "in app.py\n",
    "- dash_app = JupyterDash(..)\n",
    "- dash_app = app\n",
    "- set cache_dir = \"./cache\"\n",
    "- set cache_time = 86400"
   ]
  },
  {
   "cell_type": "code",
   "execution_count": null,
   "metadata": {},
   "outputs": [],
   "source": [
    "!mkdir -p logs\n",
    "!mkdir -p cache"
   ]
  },
  {
   "cell_type": "markdown",
   "metadata": {},
   "source": [
    "### Tests data"
   ]
  },
  {
   "cell_type": "code",
   "execution_count": null,
   "metadata": {},
   "outputs": [],
   "source": [
    "## load & initialize static data\n",
    "# => tuple-list 'counties_geojson'\n",
    "# => dataframe 'counties_metadf'\n",
    "import json\n",
    "import pandas as pd\n",
    "\n",
    "# Landkreis-Geometrie vom RKI:\n",
    "# https://npgeo-corona-npgeo-de.hub.arcgis.com/datasets/917fc37a709542548cc3be077a786c17_0 -> ShapeFile\n",
    "# https://mapshaper.org -> GEOJSON\n",
    "\n",
    "with open('assets/DE-Landkreise_RKI.geojson.json') as json_file:\n",
    "    counties_geojson = json.load(json_file)\n",
    "\n",
    "# 'id' must be the unique identifier of the shapes (required by plotly.Choroplethmapbox)\n",
    "for i, feat in enumerate(counties_geojson['features']):\n",
    "    feat['id'] = i\n",
    "\n",
    "counties_metadf = pd.DataFrame(data={\n",
    "        # geoid must match county-shape-ids in json file (must start with 0 and increase with no missing one)\n",
    "        'geoids' :    [feat['id']                             for feat in counties_geojson['features']],\n",
    "        'names'  :    [feat['properties'].get('GEN')          for feat in counties_geojson['features']],\n",
    "        'cca'    :    [feat['properties'].get('RS')           for feat in counties_geojson['features']],\n",
    "    })\n",
    "\n",
    "# test \n",
    "counties_metadf.loc[counties_metadf['cca']=='03159'] # data of Göttingen\n",
    "#counties_metadf.to_csv('counties_metadata.csv', index=False)"
   ]
  },
  {
   "cell_type": "markdown",
   "metadata": {},
   "source": [
    "------------------------------\n",
    "## Run the Dashboard"
   ]
  },
  {
   "cell_type": "markdown",
   "metadata": {},
   "source": [
    "### load all with `import app.py`\n",
    "\n"
   ]
  },
  {
   "cell_type": "code",
   "execution_count": null,
   "metadata": {},
   "outputs": [],
   "source": [
    "import os\n",
    "\n",
    "port = 8058\n",
    "base_url = \"https://jupyter-jsc.fz-juelich.de\"\n",
    "prefix_path = os.getenv('JUPYTERHUB_SERVICE_PREFIX') + \"proxy/{}\".format(port) + \"/\"\n",
    "print(base_url + prefix_path)\n",
    "\n",
    "os.environ[\"BASE_URL\"] = base_url\n",
    "os.environ[\"PREFIX_PATH\"] = prefix_path\n",
    "\n",
    "os.environ[\"MIN_DATE\"] = \"2020_08_01\"\n",
    "os.environ[\"MAX_DATE\"] = \"2020_11_30\"\n",
    "os.environ[\"INIT_DATE\"] = \"2020_11_01\"\n",
    "\n",
    "# switch from PNGs to CSVs (first date with CSVs)\n",
    "os.environ[\"THRESHOLD_DATE\"] = \"2020_10_19\""
   ]
  },
  {
   "cell_type": "code",
   "execution_count": null,
   "metadata": {},
   "outputs": [],
   "source": [
    "#%reload_ext autoreload\n",
    "#%autoreload 2\n",
    "\n",
    "# ensure we create `app` in app.py with JupyterDash\n",
    "from plotly_figures.maps import *\n",
    "import app"
   ]
  },
  {
   "cell_type": "markdown",
   "metadata": {},
   "source": [
    "### more tests"
   ]
  },
  {
   "cell_type": "code",
   "execution_count": null,
   "metadata": {},
   "outputs": [],
   "source": [
    "# test init dir location\n",
    "from datetime import datetime as dt\n",
    "# test_date = app.init_date\n",
    "test_date = dt.strptime(\"2020_10_18\", '%Y_%m_%d').date() \n",
    "assets_dir = app.get_assets_datadir(dt(test_date.year, test_date.month, test_date.day))\n",
    "assets_dir"
   ]
  },
  {
   "cell_type": "code",
   "execution_count": null,
   "metadata": {},
   "outputs": [],
   "source": [
    "# test plot function\n",
    "init_mapcsv_path = \"{}map.csv\".format(app.init_assets_path)\n",
    "print(init_mapcsv_path)\n",
    "\n",
    "init_mapfig_bstim = create_map_figure(\n",
    "    app.counties_geojson,\n",
    "    app.counties_metadf,\n",
    "    init_mapcsv_path,\n",
    "    column='newInf100k',\n",
    ")\n",
    "\n",
    "init_mapfig_bstim.show(\n",
    "    config={\"displayModeBar\": False,\n",
    "            \"showTips\": False,\n",
    "            \"modeBarButtonsToRemove\": ['toImage'],\n",
    "    }\n",
    ") # \"staticPlot\": True})"
   ]
  },
  {
   "cell_type": "markdown",
   "metadata": {},
   "source": [
    "### start the dashboard"
   ]
  },
  {
   "cell_type": "code",
   "execution_count": null,
   "metadata": {},
   "outputs": [],
   "source": [
    "print(\"Dash app running on\", base_url + prefix_path)\n",
    "app.dash_app.run_server(mode=\"external\", debug=True, port=port)\n",
    "    # mode=\"jupyterlab\" -> will open the app in a tab in JupyterLab\n",
    "    # mode=\"inline\"     -> will open the app below this cell\n",
    "    # mode=\"external\"   -> will displays a URL that you can MIGHT click on to open the app in a browser tab\n",
    "    #                   -> it it is 127.0.0.1 then take `print(base_url + prefix_path)`"
   ]
  },
  {
   "cell_type": "code",
   "execution_count": null,
   "metadata": {},
   "outputs": [],
   "source": []
  }
 ],
 "metadata": {
  "kernelspec": {
   "display_name": "Python 3",
   "language": "python",
   "name": "python3"
  },
  "language_info": {
   "codemirror_mode": {
    "name": "ipython",
    "version": 3
   },
   "file_extension": ".py",
   "mimetype": "text/x-python",
   "name": "python",
   "nbconvert_exporter": "python",
   "pygments_lexer": "ipython3",
   "version": "3.6.8"
  }
 },
 "nbformat": 4,
 "nbformat_minor": 4
}
